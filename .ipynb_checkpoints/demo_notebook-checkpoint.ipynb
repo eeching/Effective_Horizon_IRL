{
 "cells": [
  {
   "cell_type": "code",
   "execution_count": 1,
   "id": "a6a33dd9-d4f3-4997-a75c-5860a108c0f2",
   "metadata": {},
   "outputs": [
    {
     "name": "stdout",
     "output_type": "stream",
     "text": [
      "Creating a 10x10 'simple' Gridworld with seed=0 ...\n",
      "Initializing environment and partial demonstrations for LP IRL...\n",
      "finished computing V-value\n",
      "finished computing the expert policy\n",
      "\n",
      "Environment initialized. Found partial expert demonstrations:\n",
      " - Number of demonstrated states: 50\n"
     ]
    }
   ],
   "source": [
    "# # On the Effective Horizon of Inverse Reinforcement Learning\n",
    "# \n",
    "# This notebook demonstrates example usage of the IRL environment and algorithms:\n",
    "# 1. Creating a simple Gridworld environment.\n",
    "# 2. Generating partial expert demonstrations.\n",
    "# 3. Running Linear Programming IRL.\n",
    "# 4. Running Maximum Entropy IRL.\n",
    "# 5. Evaluating and visualizing the results.\n",
    "# ---\n",
    "\n",
    "import numpy as np\n",
    "import matplotlib.pyplot as plt\n",
    "\n",
    "\n",
    "from irl.mdp.gridworld import Gridworld\n",
    "from irl.mdp.objectworld import Objectworld\n",
    "from effective_horizon_lp import lp_env_init, lp_irl\n",
    "from effective_horizon_maxent import load_maxent_expert, maxent_irl\n",
    "#\n",
    "# If they're in a different location, you'll need to adjust the imports accordingly.\n",
    "\n",
    "# For this demo, let's illustrate usage with a simple Gridworld and the provided IRL methods.\n",
    "\n",
    "# ---\n",
    "# ## 1. Creating a Gridworld environment and generating expert data\n",
    "# ---\n",
    "\n",
    "def demo_gridworld():\n",
    "    \"\"\"\n",
    "    Creates a Gridworld environment (simple), \n",
    "    samples expert demonstrations, \n",
    "    and returns them for use in IRL.\n",
    "    \"\"\"\n",
    "    # Example: A 10x10 simple Gridworld\n",
    "    # If you are using exactly the same environment structure from the README,\n",
    "    # the environment might be created differently. Adjust accordingly.\n",
    "    \n",
    "    # environment = Gridworld(grid_size=10, reward_model=\"simple\", seed=0)\n",
    "    # For demonstration, let's emulate the environment interface.\n",
    "    \n",
    "    print(\"Creating a 10x10 'simple' Gridworld with seed=0 ...\")\n",
    "    \n",
    "    # Example from the `lp_env_init` function in the README:\n",
    "    task = \"gridworld\"\n",
    "    expert_fraction = 0.5  # 50% of expert data\n",
    "    seed = 42\n",
    "    reward_model = \"simple\"\n",
    "    \n",
    "    # The lp_env_init function is supposed to initialize everything for LP IRL. \n",
    "    # Let's do that here:\n",
    "    print(\"Initializing environment and partial demonstrations for LP IRL...\")\n",
    "    env_data = lp_env_init(\n",
    "        task=task,\n",
    "        expert_fraction=expert_fraction,\n",
    "        seed=seed,\n",
    "        reward_model=reward_model\n",
    "    )\n",
    "    \n",
    "    (world_env, ground_r, expert_policy, expert_demonstrated_states) = env_data\n",
    "    \n",
    "    print(\"\\nEnvironment initialized. Found partial expert demonstrations:\")\n",
    "    print(f\" - Number of demonstrated states: {len(expert_demonstrated_states)}\")\n",
    "    \n",
    "    return world_env, ground_r, expert_policy, expert_demonstrated_states\n",
    "\n",
    "\n",
    "world_env, ground_r, expert_policy, expert_demonstrated_states = demo_gridworld()\n"
   ]
  },
  {
   "cell_type": "code",
   "execution_count": 2,
   "id": "474e37a2-85e3-42ec-997e-10a6b3050df6",
   "metadata": {},
   "outputs": [
    {
     "name": "stdout",
     "output_type": "stream",
     "text": [
      "\n",
      "Running LP IRL with discount=0.5, slack=0.001 ...\n",
      "     pcost       dcost       gap    pres   dres   k/t\n",
      " 0: -3.4406e-02 -2.4138e+02  3e+03  3e+00  4e+01  1e+00\n",
      " 1:  2.4079e-01 -4.4665e+01  3e+02  6e-01  7e+00  1e+00\n",
      " 2: -6.2401e+00 -4.5607e+01  3e+02  5e-01  6e+00  1e+00\n",
      " 3: -8.2257e+00 -4.5272e+01  3e+02  5e-01  6e+00  8e-01\n",
      " 4: -1.7941e+01 -3.6414e+01  1e+02  2e-01  3e+00  3e-01\n",
      " 5: -2.5842e+01 -3.4697e+01  6e+01  1e-01  1e+00  1e-01\n",
      " 6: -2.9434e+01 -3.4104e+01  3e+01  6e-02  7e-01  5e-02\n",
      " 7: -3.3047e+01 -3.4260e+01  8e+00  2e-02  2e-01  6e-03\n",
      " 8: -3.4072e+01 -3.4469e+01  3e+00  5e-03  6e-02  2e-03\n",
      " 9: -3.4461e+01 -3.4587e+01  8e-01  2e-03  2e-02  5e-04\n",
      "10: -3.4463e+01 -3.4586e+01  8e-01  2e-03  2e-02  5e-04\n",
      "11: -3.4537e+01 -3.4601e+01  4e-01  8e-04  1e-02  2e-04\n",
      "12: -3.4597e+01 -3.4621e+01  2e-01  3e-04  4e-03  8e-05\n",
      "13: -3.4621e+01 -3.4629e+01  5e-02  1e-04  1e-03  3e-05\n",
      "14: -3.4622e+01 -3.4629e+01  5e-02  1e-04  1e-03  2e-05\n",
      "15: -3.4629e+01 -3.4631e+01  1e-02  3e-05  3e-04  8e-06\n",
      "16: -3.4631e+01 -3.4632e+01  5e-03  9e-06  1e-04  2e-06\n",
      "17: -3.4632e+01 -3.4632e+01  7e-04  1e-06  2e-05  3e-07\n",
      "18: -3.4632e+01 -3.4632e+01  7e-05  1e-07  2e-06  3e-08\n",
      "19: -3.4632e+01 -3.4632e+01  7e-07  1e-09  2e-08  3e-10\n",
      "Optimal solution found.\n",
      "LP IRL completed.\n"
     ]
    }
   ],
   "source": [
    "# ---\n",
    "# ## 2. Running Linear Programming IRL\n",
    "# ---\n",
    "\n",
    "def run_lp_irl(world_env, expert_demonstrated_states, discount=0.5, slack=0.001):\n",
    "    \"\"\"\n",
    "    Runs Linear Programming IRL with a given discount factor\n",
    "    and returns the learned reward, value, and policy.\n",
    "    \"\"\"\n",
    "    print(f\"\\nRunning LP IRL with discount={discount}, slack={slack} ...\")\n",
    "    estimate_r, learned_v, learned_policy = lp_irl(\n",
    "        world_env,\n",
    "        expert_demonstrated_states,\n",
    "        discount,\n",
    "        slack_variable=slack\n",
    "    )\n",
    "    print(\"LP IRL completed.\")\n",
    "    return estimate_r, learned_v, learned_policy\n",
    "\n",
    "lp_estimated_r, lp_v, lp_policy = run_lp_irl(\n",
    "    world_env, \n",
    "    expert_demonstrated_states, \n",
    "    discount=0.5, \n",
    "    slack=0.001\n",
    ")"
   ]
  },
  {
   "cell_type": "code",
   "execution_count": 7,
   "id": "a3eea73c-5183-4fc6-8a66-171cbb342502",
   "metadata": {},
   "outputs": [
    {
     "name": "stdout",
     "output_type": "stream",
     "text": [
      "\n",
      "Loading MaxEnt environment for gridworld in single mode with reward='simple'...\n",
      "Running Maximum Entropy IRL...\n"
     ]
    },
    {
     "name": "stderr",
     "output_type": "stream",
     "text": [
      "100%|██████████████████████████████████████████████████████████████████████████████████████████████████████████████████████████████████████████████████████████████████████| 50/50 [00:01<00:00, 49.17it/s]\n"
     ]
    },
    {
     "name": "stdout",
     "output_type": "stream",
     "text": [
      "MaxEnt IRL completed.\n"
     ]
    }
   ],
   "source": [
    "# ---\n",
    "# ## 3. Running Maximum Entropy IRL\n",
    "# \n",
    "# For Maximum Entropy IRL, we use 'load_maxent_expert' to retrieve the required \n",
    "# environment data. We'll then call 'maxent_irl' with a specified horizon.\n",
    "# ---\n",
    "import numpy.random as rn\n",
    "import numpy as np\n",
    "\n",
    "def demo_maxent(task_env=\"gridworld\", mode=\"single\", reward_model=\"simple\", horizon=10):\n",
    "    \"\"\"\n",
    "    Demonstrates loading environment data for MaxEnt IRL and running the IRL algorithm.\n",
    "    \"\"\"\n",
    "    print(f\"\\nLoading MaxEnt environment for {task_env} in {mode} mode with reward='{reward_model}'...\")\n",
    "    (transition_fn, _states, _actions, trajs, feature_matrix, \n",
    "     n_actions, n_states, _) = load_maxent_expert(\n",
    "         task_env=task_env, \n",
    "         mode=mode, \n",
    "         reward_model=reward_model\n",
    "     )\n",
    "\n",
    "\n",
    "    # extract training traj with N randomly sample initial states and truncate the trajectories at the given training horizon\n",
    "    init_states = rn.choice(range(100), 10, replace=False)\n",
    "    training_trajs = np.array([trajs[i] for i in init_states])[:, :horizon]\n",
    "\n",
    "    print(\"Running Maximum Entropy IRL...\")\n",
    "    estimate_r, learned_v, policy = maxent_irl(\n",
    "        feature_matrix,\n",
    "        n_states,\n",
    "        n_actions,\n",
    "        transition_fn,\n",
    "        training_trajs,\n",
    "        epochs=50,          # Lower epochs for a quick demo\n",
    "        learning_rate=0.01, # Example learning rate\n",
    "        finite_horizon=horizon\n",
    "    )\n",
    "    print(\"MaxEnt IRL completed.\")\n",
    "    return estimate_r, learned_v, policy\n",
    "\n",
    "maxent_estimated_r, maxent_v, maxent_policy = demo_maxent(\n",
    "    task_env=\"gridworld\", \n",
    "    mode=\"single\", \n",
    "    reward_model=\"simple\", \n",
    "    horizon=10\n",
    ")"
   ]
  },
  {
   "cell_type": "code",
   "execution_count": 8,
   "id": "39ff83c8-c559-4b23-8312-0355de7c827a",
   "metadata": {},
   "outputs": [
    {
     "name": "stdout",
     "output_type": "stream",
     "text": [
      "\n",
      "Visualizing the learned rewards...\n"
     ]
    },
    {
     "data": {
      "image/png": "[encoded data removed]",
      "text/plain": [
       "<Figure size 500x500 with 2 Axes>"
      ]
     },
     "metadata": {},
     "output_type": "display_data"
    },
    {
     "data": {
      "image/png": "[encoded data removed]",
      "text/plain": [
       "<Figure size 500x500 with 2 Axes>"
      ]
     },
     "metadata": {},
     "output_type": "display_data"
    }
   ],
   "source": [
    "# ---\n",
    "# ## 4. Quick Comparison and Visualization\n",
    "# \n",
    "# Note: Visualization depends on how your environment is structured. \n",
    "# If you have a grid, you can plot the reward values as a heatmap.\n",
    "# ---\n",
    "\n",
    "def visualize_reward(reward_array, title=\"Learned Reward\", grid_size=10):\n",
    "    \"\"\"\n",
    "    Utility function to visualize a reward array on a grid.\n",
    "    reward_array: shape (grid_size * grid_size,) or (n_states,)\n",
    "    \"\"\"\n",
    "    # Convert to 2D array for easier plotting\n",
    "    reward_2d = reward_array.reshape((grid_size, grid_size))\n",
    "    \n",
    "    plt.figure(figsize=(5, 5))\n",
    "    plt.imshow(reward_2d, cmap='coolwarm', origin='lower')\n",
    "    plt.colorbar(label=\"Reward\")\n",
    "    plt.title(title)\n",
    "    plt.show()\n",
    "\n",
    "# If your environment does not store grid_size, \n",
    "# you'll need to adapt this value to match the environment's state space.\n",
    "\n",
    "grid_size = 10  # For this demo, we assume a 10x10 Gridworld.\n",
    "\n",
    "print(\"\\nVisualizing the learned rewards...\")\n",
    "\n",
    "# Visualize LP IRL Reward\n",
    "visualize_reward(lp_estimated_r, title=\"LP IRL Learned Reward\", grid_size=grid_size)\n",
    "\n",
    "# Visualize MaxEnt IRL Reward\n",
    "visualize_reward(maxent_estimated_r, title=\"MaxEnt IRL Learned Reward\", grid_size=grid_size)\n"
   ]
  }
 ],
 "metadata": {
  "kernelspec": {
   "display_name": "irl",
   "language": "python",
   "name": "irl"
  },
  "language_info": {
   "codemirror_mode": {
    "name": "ipython",
    "version": 3
   },
   "file_extension": ".py",
   "mimetype": "text/x-python",
   "name": "python",
   "nbconvert_exporter": "python",
   "pygments_lexer": "ipython3",
   "version": "3.10.16"
  }
 },
 "nbformat": 4,
 "nbformat_minor": 5
}
